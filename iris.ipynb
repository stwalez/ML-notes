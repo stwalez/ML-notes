{
 "cells": [
  {
   "cell_type": "code",
   "execution_count": 1,
   "id": "e1d5014b",
   "metadata": {},
   "outputs": [],
   "source": [
    "# load the iris dataset\n",
    "from sklearn.datasets import load_iris\n",
    "iris = load_iris()"
   ]
  },
  {
   "cell_type": "code",
   "execution_count": 2,
   "id": "66169f8e",
   "metadata": {},
   "outputs": [
    {
     "name": "stdout",
     "output_type": "stream",
     "text": [
      "Feature names: ['sepal length (cm)', 'sepal width (cm)', 'petal length (cm)', 'petal width (cm)']\n",
      "Target names: ['setosa' 'versicolor' 'virginica']\n"
     ]
    }
   ],
   "source": [
    "# store the feature matrix (X): input,  and response vector (y): output (pre labeled answers)\n",
    "X = iris.data\n",
    "y = iris.target\n",
    "\n",
    "feature_names = iris.feature_names\n",
    "target_names = iris.target_names\n",
    "\n",
    "print(\"Feature names:\", feature_names) \n",
    "print(\"Target names:\", target_names) "
   ]
  },
  {
   "cell_type": "code",
   "execution_count": 7,
   "id": "99525bca",
   "metadata": {},
   "outputs": [
    {
     "name": "stdout",
     "output_type": "stream",
     "text": [
      "(120, 4)\n",
      "(30, 4)\n"
     ]
    }
   ],
   "source": [
    "#Split data into training and test sets\n",
    "from sklearn.model_selection import train_test_split\n",
    "X_train, X_test, y_train, y_test = train_test_split(X, y, test_size=0.2)\n",
    "\n",
    "print(X_train.shape)\n",
    "print(X_test.shape)"
   ]
  },
  {
   "cell_type": "code",
   "execution_count": 12,
   "id": "4bded611",
   "metadata": {},
   "outputs": [
    {
     "name": "stdout",
     "output_type": "stream",
     "text": [
      "[1 1 0 1 2 2 1 0 2 1 1 0 0 2 0 2 1 0 2 2 2 0 0 2 2 0 2 0 2 2]\n",
      "[1 1 0 1 2 2 1 0 2 1 1 0 0 2 0 1 1 0 2 2 1 0 0 2 2 0 2 0 2 1]\n",
      "['versicolor' 'versicolor' 'setosa' 'versicolor' 'virginica' 'virginica'\n",
      " 'versicolor' 'setosa' 'virginica' 'versicolor' 'versicolor' 'setosa'\n",
      " 'setosa' 'virginica' 'setosa' 'virginica' 'versicolor' 'setosa'\n",
      " 'virginica' 'virginica' 'virginica' 'setosa' 'setosa' 'virginica'\n",
      " 'virginica' 'setosa' 'virginica' 'setosa' 'virginica' 'virginica']\n"
     ]
    }
   ],
   "source": [
    "#KNN Classifier. Try changing the n_neighbors\n",
    "from sklearn.neighbors import KNeighborsClassifier\n",
    "knn = KNeighborsClassifier(n_neighbors=3)\n",
    "knn.fit(X_train, y_train)\n",
    "\n",
    "#Decision Tree\n",
    "# from sklearn.tree import DecisionTreeClassifier \n",
    "# knn = DecisionTreeClassifier() \n",
    "# knn.fit(X_train, y_train) \n",
    "\n",
    "\n",
    "#make prediction\n",
    "y_pred = knn.predict(X_test)\n",
    "print (y_test)\n",
    "print (y_pred)\n",
    "print (iris.target_names[y_test])"
   ]
  },
  {
   "cell_type": "code",
   "execution_count": 9,
   "id": "6bb70918",
   "metadata": {},
   "outputs": [
    {
     "name": "stdout",
     "output_type": "stream",
     "text": [
      "0.9\n"
     ]
    }
   ],
   "source": [
    "#Accuracy of our model based on our test output and prediction output\n",
    "from sklearn import metrics\n",
    "print(metrics.accuracy_score(y_test, y_pred))"
   ]
  },
  {
   "cell_type": "code",
   "execution_count": 18,
   "id": "8cc1d29e",
   "metadata": {},
   "outputs": [
    {
     "data": {
      "text/plain": [
       "['mlbrain.joblib']"
      ]
     },
     "execution_count": 18,
     "metadata": {},
     "output_type": "execute_result"
    }
   ],
   "source": [
    "#Model persistance is important. Next time we want to make a prediction we save a model to a file and use that file for predictions.\n",
    "\n",
    "import joblib\n",
    "joblib.dump(knn, 'mlbrain.joblib')"
   ]
  },
  {
   "cell_type": "code",
   "execution_count": 19,
   "id": "a11992da",
   "metadata": {},
   "outputs": [
    {
     "name": "stdout",
     "output_type": "stream",
     "text": [
      "predictions:  ['versicolor', 'virginica']\n"
     ]
    }
   ],
   "source": [
    "#Load our model\n",
    "model = joblib.load('mlbrain.joblib')\n",
    "sample = [[3,5,4,2], [2,3,5,4]]\n",
    "predictions = model.predict(sample)\n",
    "pred_species = [iris.target_names[p] for p in predictions]\n",
    "print(\"predictions: \", pred_species)"
   ]
  },
  {
   "cell_type": "code",
   "execution_count": null,
   "id": "8013ecfa",
   "metadata": {},
   "outputs": [],
   "source": []
  }
 ],
 "metadata": {
  "kernelspec": {
   "display_name": "Python 3 (ipykernel)",
   "language": "python",
   "name": "python3"
  },
  "language_info": {
   "codemirror_mode": {
    "name": "ipython",
    "version": 3
   },
   "file_extension": ".py",
   "mimetype": "text/x-python",
   "name": "python",
   "nbconvert_exporter": "python",
   "pygments_lexer": "ipython3",
   "version": "3.9.7"
  }
 },
 "nbformat": 4,
 "nbformat_minor": 5
}
